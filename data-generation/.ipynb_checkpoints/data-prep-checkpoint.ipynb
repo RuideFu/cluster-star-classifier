{
 "cells": [
  {
   "cell_type": "markdown",
   "source": [
    "# Data Prep\n",
    "\n",
    "In this Jupyter notebook, we will prepare training data for the SVM.\n",
    "The big idea is to query the astronomicon database for a list of user's measurements of star clusters, \n",
    "and take the sky coordinates (RA, DEC) and the proper motion and distance constraints.\n",
    "Then we will query the local Gaia database, and label all the stars either as cluster stars (0) or field stars (1).\n"
   ],
   "metadata": {
    "collapsed": false
   },
   "id": "1f367d54b387bf28"
  },
  {
   "cell_type": "markdown",
   "source": [
    "## Setup MariaDB Connection"
   ],
   "metadata": {
    "collapsed": false
   },
   "id": "e03ab3b581e447b9"
  },
  {
   "cell_type": "code",
   "execution_count": 2,
   "outputs": [
    {
     "name": "stdout",
     "output_type": "stream",
     "text": [
      "Total clusters: 61\n"
     ]
    }
   ],
   "source": [
    "import json\n",
    "import sqlalchemy as sa\n",
    "import numpy as np\n",
    "\n",
    "DB_BACKEND = \"mysql+pymysql\"\n",
    "DB_HOST = \"localhost\"\n",
    "DB_PORT = 3306\n",
    "DB_USER = \"root\"\n",
    "DB_PASS = \"\"\n",
    "\n",
    "def import_labels():\n",
    "    # create engine and session\n",
    "    db_uri = '{}://{}:{}@{}:{}/{}'.format(DB_BACKEND, DB_USER, DB_PASS, DB_HOST, DB_PORT, \"astronomicon\")\n",
    "    engine = sa.create_engine(db_uri)\n",
    "    session = sa.orm.scoped_session(sa.orm.sessionmaker())\n",
    "    session.configure(bind=engine)\n",
    "    # query the database, get all observations\n",
    "    obs_list = session.execute(\n",
    "        sa.sql.text(\"SELECT cluster_id, ra, `dec`, score, constraints FROM astronomicon_submission\")).all()\n",
    "    # parse constraints of each observation\n",
    "    parsed_obs_list = []\n",
    "    for obs in obs_list:\n",
    "        cluster_id, ra, dec, score, constraints = obs\n",
    "        constraints = json.loads(constraints)\n",
    "        distance_range = (constraints[\"distance\"][\"min\"], constraints[\"distance\"][\"max\"])\n",
    "        pm_ra_range = (constraints[\"pm_ra\"][\"min\"], constraints[\"pm_ra\"][\"max\"])\n",
    "        pm_dec_range = (constraints[\"pm_dec\"][\"min\"], constraints[\"pm_dec\"][\"max\"])\n",
    "        parsed_obs_list.append(\n",
    "            {\"cluster_id\": cluster_id, \"ra\": ra, \"dec\": dec, \"score\": score, \"distance_range\": distance_range,\n",
    "             \"pm_ra_range\": pm_ra_range, \"pm_dec_range\": pm_dec_range})\n",
    "\n",
    "    # remove duplicates\n",
    "    parsed_obs_list.sort(\n",
    "        key=lambda x: x[\"cluster_id\"] * 10 - x[\"score\"])  # sort by cluster_id with score as a tiebreaker\n",
    "    unique_obs_list = []\n",
    "    for obs in parsed_obs_list:\n",
    "        if len(unique_obs_list) == 0 or unique_obs_list[-1][\"cluster_id\"] != obs[\"cluster_id\"]:\n",
    "            unique_obs_list.append(obs)\n",
    "            # print(unique_obs_list[-1])\n",
    "    print(\"Total clusters: {}\".format(len(unique_obs_list)))\n",
    "    return unique_obs_list\n",
    "\n",
    "obs_list = import_labels()"
   ],
   "metadata": {
    "collapsed": false,
    "ExecuteTime": {
     "end_time": "2024-04-15T19:37:06.753309Z",
     "start_time": "2024-04-15T19:37:06.741324Z"
    }
   },
   "id": "43022054ca40149b"
  },
  {
   "cell_type": "markdown",
   "source": [
    "## Pick a cluster from the list"
   ],
   "metadata": {
    "collapsed": false
   },
   "id": "45de81391a9680b6"
  },
  {
   "cell_type": "code",
   "execution_count": 6,
   "outputs": [
    {
     "name": "stdout",
     "output_type": "stream",
     "text": [
      "{'cluster_id': 3, 'ra': 92.27, 'dec': 24.34, 'score': 0.171668, 'distance_range': (0.77, 1), 'pm_ra_range': (1.67, 2.85), 'pm_dec_range': (-3.52, -2.3)}\n"
     ]
    }
   ],
   "source": [
    "index = 0\n",
    "\n",
    "cluster = obs_list[index]\n",
    "print(cluster)"
   ],
   "metadata": {
    "collapsed": false,
    "ExecuteTime": {
     "end_time": "2024-04-15T20:06:21.513875Z",
     "start_time": "2024-04-15T20:06:21.502364Z"
    }
   },
   "id": "bcfdcbfa7950e390"
  },
  {
   "cell_type": "markdown",
   "source": [
    "## Query Gaia Database"
   ],
   "metadata": {
    "collapsed": false
   },
   "id": "f46065f8a272f71"
  },
  {
   "cell_type": "code",
   "execution_count": 8,
   "outputs": [
    {
     "name": "stdout",
     "output_type": "stream",
     "text": [
      "ra: 92.27, dec: 24.34, radius: 0.19000000000000003, #stars: 4551\n"
     ]
    }
   ],
   "source": [
    "data_dir = \"/Users/reedfu/Skynet/astromancer-server/data/gaia_clusters_photometry.sqlite\"\n",
    "\n",
    "import math\n",
    "import sqlite3\n",
    "from numpy import arcsin, cos, deg2rad, rad2deg, sin\n",
    "\n",
    "def local_get_data(query_range):\n",
    "    try:\n",
    "        dec = float(query_range['dec'])\n",
    "        ra = float(query_range['ra'])\n",
    "        r = float(query_range['radius'])\n",
    "    except:\n",
    "        raise Exception({\"error\": \"Input invalid type\"})\n",
    "    if not 0 <= ra < 360:\n",
    "        raise Exception({'error': 'Expected RA in the range [0, 360)'})\n",
    "    if not -90 <= dec < 90:\n",
    "        raise Exception({'error': 'Expected Dec in the range [-90, +90]'})\n",
    "    if not 0 < r < 90:\n",
    "        raise Exception({'error': 'Expected query radius in the range (0, 90)'})\n",
    "\n",
    "    # Compute the RA/Dec query ranges; handle poles and RA=0/360 wrap\n",
    "    dec_min, dec_max = dec - r, dec + r\n",
    "    if dec_min < -90:\n",
    "        # South Pole in FOV, use the whole RA range\n",
    "        where = 'dec <= ?'\n",
    "        args = (dec_max,)\n",
    "    elif dec_max > 90:\n",
    "        # North Pole in FOV, use the whole RA range\n",
    "        where = 'dec >= ?'\n",
    "        args = (dec_min,)\n",
    "    else:\n",
    "        # See http://janmatuschek.de/LatitudeLongitudeBoundingCoordinates\n",
    "        dra = rad2deg(arcsin(sin(deg2rad(r)) / cos(deg2rad(dec))))\n",
    "        ra_min, ra_max = ra - dra, ra + dra\n",
    "        if ra_max >= ra_min + 360:\n",
    "            # RA spans the whole 360 range\n",
    "            where = 'dec >= ? and dec <= ?'\n",
    "            args = (dec_min, dec_max)\n",
    "        elif ra_min < 0:\n",
    "            # RA range encloses RA=0 => two separate RA ranges:\n",
    "            # ra_min + 360 <= ra <= 360 and 0 <= ra <= ra_max\n",
    "            where = '(ra >= ? or ra <= ?) and dec >= ? and dec <= ?'\n",
    "            args = (ra_min + 360, ra_max, dec_min, dec_max)\n",
    "        elif ra_max > 360:\n",
    "            # RA range encloses RA=360 => two separate RA ranges:\n",
    "            # ra_min <= ra <= 360 and 0 <= ra <= ra_max - 360\n",
    "            where = '(ra >= ? or ra <= ?) and dec >= ? and dec <= ?'\n",
    "            args = (ra_min, ra_max - 360, dec_min, dec_max)\n",
    "        else:\n",
    "            # RA range fully within [0, 360)\n",
    "            where = 'ra >= ? and ra <= ? and dec >= ? and dec <= ?'\n",
    "            args = (ra_min, ra_max, dec_min, dec_max)\n",
    "    sqlite_filename = data_dir\n",
    "    conn = sqlite3.connect(sqlite_filename)\n",
    "    try:\n",
    "        # Query RA/Dec region(s) using constraints defined above (should be\n",
    "        # fast thanks to the indexes) in a subquery; the outer query returns\n",
    "        # only sources within the circle of radius r using the haversine\n",
    "        # formula, which is more accurate for small distances\n",
    "        cur = conn.cursor()\n",
    "        conn.create_function('asin', 1, math.asin)\n",
    "        conn.create_function('sqrt', 1, math.sqrt)\n",
    "        conn.create_function('sin', 1, math.sin)\n",
    "        conn.create_function('cos', 1, math.cos)\n",
    "        conn.create_function('radians', 1, math.radians)\n",
    "        conn.create_function('pow', 2, math.pow)\n",
    "        sources = cur.execute(\n",
    "            'select * from (select * from clusters where ' + where +\n",
    "            ') where asin(sqrt(pow(sin(radians(dec - ?)/2), 2) + '\n",
    "            'pow(sin(radians(ra - ?)/2), 2)*cos(radians(dec))*?)) <= ?',\n",
    "            args + (dec, ra, cos(deg2rad(dec)), deg2rad(r) / 2)\n",
    "        ).fetchall()\n",
    "    except Exception as e:\n",
    "        raise Exception({'error': \"Cannot Pull GAIA Database\"})\n",
    "    finally:\n",
    "        conn.close()\n",
    "    # Output sources in CSV\n",
    "    # for source in sources:\n",
    "    # source_id, ra, dec, r, pmra, pmdec\n",
    "    # print(','.join(str(x) for x in source))\n",
    "    return sources\n",
    "\n",
    "def import_astrometry(ra, dec):\n",
    "    radius = 0.01\n",
    "    data = local_get_data({'ra': ra, 'dec': dec, 'radius': radius})\n",
    "    while len(data) < 5000:\n",
    "        radius += 0.01\n",
    "        tmp = local_get_data({'ra': ra, 'dec': dec, 'radius': radius})\n",
    "        if len(tmp) > 5000:\n",
    "            break\n",
    "        data = tmp\n",
    "    print(\"ra: {}, dec: {}, radius: {}, #stars: {}\".format(ra, dec, radius, len(data)))\n",
    "    return data\n",
    "\n",
    "data = import_astrometry(cluster[\"ra\"], cluster[\"dec\"])"
   ],
   "metadata": {
    "collapsed": false,
    "ExecuteTime": {
     "end_time": "2024-04-15T20:06:57.503808Z",
     "start_time": "2024-04-15T20:06:55.264302Z"
    }
   },
   "id": "20b0c6b142dab8fe"
  },
  {
   "cell_type": "markdown",
   "source": [
    "## Data Preview"
   ],
   "metadata": {
    "collapsed": false
   },
   "id": "bbbc2ecac36cdbfd"
  },
  {
   "cell_type": "code",
   "execution_count": null,
   "outputs": [],
   "source": [],
   "metadata": {
    "collapsed": false
   },
   "id": "a53b3c377eda381c"
  }
 ],
 "metadata": {
  "kernelspec": {
   "display_name": "Python 3",
   "language": "python",
   "name": "python3"
  },
  "language_info": {
   "codemirror_mode": {
    "name": "ipython",
    "version": 2
   },
   "file_extension": ".py",
   "mimetype": "text/x-python",
   "name": "python",
   "nbconvert_exporter": "python",
   "pygments_lexer": "ipython2",
   "version": "2.7.6"
  }
 },
 "nbformat": 4,
 "nbformat_minor": 5
}
